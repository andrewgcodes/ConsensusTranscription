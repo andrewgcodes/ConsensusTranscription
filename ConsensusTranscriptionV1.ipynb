{
  "nbformat": 4,
  "nbformat_minor": 0,
  "metadata": {
    "colab": {
      "provenance": [],
      "authorship_tag": "ABX9TyMWev0NSLmWT0eABPQ8RQcM",
      "include_colab_link": true
    },
    "kernelspec": {
      "name": "python3",
      "display_name": "Python 3"
    },
    "language_info": {
      "name": "python"
    }
  },
  "cells": [
    {
      "cell_type": "markdown",
      "metadata": {
        "id": "view-in-github",
        "colab_type": "text"
      },
      "source": [
        "<a href=\"https://colab.research.google.com/github/andrewgcodes/ConsensusTranscription/blob/main/ConsensusTranscriptionV1.ipynb\" target=\"_parent\"><img src=\"https://colab.research.google.com/assets/colab-badge.svg\" alt=\"Open In Colab\"/></a>"
      ]
    },
    {
      "cell_type": "markdown",
      "source": [
        "Necessary installs"
      ],
      "metadata": {
        "id": "u7m0_nzeX7M2"
      }
    },
    {
      "cell_type": "code",
      "execution_count": 3,
      "metadata": {
        "colab": {
          "base_uri": "https://localhost:8080/"
        },
        "id": "rfk6xa9rXzXN",
        "outputId": "80a186ee-5189-4fce-8bff-63deba2b7140"
      },
      "outputs": [
        {
          "output_type": "stream",
          "name": "stdout",
          "text": [
            "Looking in indexes: https://pypi.org/simple, https://us-python.pkg.dev/colab-wheels/public/simple/\n",
            "Requirement already satisfied: openai in /usr/local/lib/python3.10/dist-packages (0.27.8)\n",
            "Requirement already satisfied: requests in /usr/local/lib/python3.10/dist-packages (2.27.1)\n",
            "Requirement already satisfied: speechrecognition in /usr/local/lib/python3.10/dist-packages (3.10.0)\n",
            "Requirement already satisfied: tqdm in /usr/local/lib/python3.10/dist-packages (from openai) (4.65.0)\n",
            "Requirement already satisfied: aiohttp in /usr/local/lib/python3.10/dist-packages (from openai) (3.8.4)\n",
            "Requirement already satisfied: urllib3<1.27,>=1.21.1 in /usr/local/lib/python3.10/dist-packages (from requests) (1.26.15)\n",
            "Requirement already satisfied: certifi>=2017.4.17 in /usr/local/lib/python3.10/dist-packages (from requests) (2022.12.7)\n",
            "Requirement already satisfied: charset-normalizer~=2.0.0 in /usr/local/lib/python3.10/dist-packages (from requests) (2.0.12)\n",
            "Requirement already satisfied: idna<4,>=2.5 in /usr/local/lib/python3.10/dist-packages (from requests) (3.4)\n",
            "Requirement already satisfied: attrs>=17.3.0 in /usr/local/lib/python3.10/dist-packages (from aiohttp->openai) (23.1.0)\n",
            "Requirement already satisfied: multidict<7.0,>=4.5 in /usr/local/lib/python3.10/dist-packages (from aiohttp->openai) (6.0.4)\n",
            "Requirement already satisfied: async-timeout<5.0,>=4.0.0a3 in /usr/local/lib/python3.10/dist-packages (from aiohttp->openai) (4.0.2)\n",
            "Requirement already satisfied: yarl<2.0,>=1.0 in /usr/local/lib/python3.10/dist-packages (from aiohttp->openai) (1.9.2)\n",
            "Requirement already satisfied: frozenlist>=1.1.1 in /usr/local/lib/python3.10/dist-packages (from aiohttp->openai) (1.3.3)\n",
            "Requirement already satisfied: aiosignal>=1.1.2 in /usr/local/lib/python3.10/dist-packages (from aiohttp->openai) (1.3.1)\n"
          ]
        }
      ],
      "source": [
        "!pip install openai requests speechrecognition rapidfuzz\n"
      ]
    },
    {
      "cell_type": "code",
      "source": [
        "!pip install pydub\n",
        "!sudo apt update\n",
        "!sudo apt install ffmpeg -y\n"
      ],
      "metadata": {
        "colab": {
          "base_uri": "https://localhost:8080/"
        },
        "id": "gj8R9Ar3fVzU",
        "outputId": "f6181526-bda3-41c3-9c9e-3da3281e070a"
      },
      "execution_count": 13,
      "outputs": [
        {
          "output_type": "stream",
          "name": "stdout",
          "text": [
            "Looking in indexes: https://pypi.org/simple, https://us-python.pkg.dev/colab-wheels/public/simple/\n",
            "Collecting pydub\n",
            "  Downloading pydub-0.25.1-py2.py3-none-any.whl (32 kB)\n",
            "Installing collected packages: pydub\n",
            "Successfully installed pydub-0.25.1\n",
            "Get:1 https://cloud.r-project.org/bin/linux/ubuntu focal-cran40/ InRelease [3,622 B]\n",
            "Hit:2 https://developer.download.nvidia.com/compute/cuda/repos/ubuntu2004/x86_64  InRelease\n",
            "Get:3 http://security.ubuntu.com/ubuntu focal-security InRelease [114 kB]\n",
            "Hit:4 http://archive.ubuntu.com/ubuntu focal InRelease\n",
            "Hit:5 http://ppa.launchpad.net/c2d4u.team/c2d4u4.0+/ubuntu focal InRelease\n",
            "Get:6 http://archive.ubuntu.com/ubuntu focal-updates InRelease [114 kB]\n",
            "Hit:7 http://ppa.launchpad.net/cran/libgit2/ubuntu focal InRelease\n",
            "Get:8 http://security.ubuntu.com/ubuntu focal-security/universe amd64 Packages [1,058 kB]\n",
            "Hit:9 http://ppa.launchpad.net/deadsnakes/ppa/ubuntu focal InRelease\n",
            "Get:10 http://archive.ubuntu.com/ubuntu focal-backports InRelease [108 kB]\n",
            "Hit:11 http://ppa.launchpad.net/graphics-drivers/ppa/ubuntu focal InRelease\n",
            "Get:12 http://archive.ubuntu.com/ubuntu focal-updates/universe amd64 Packages [1,354 kB]\n",
            "Get:13 http://security.ubuntu.com/ubuntu focal-security/main amd64 Packages [2,776 kB]\n",
            "Hit:14 http://ppa.launchpad.net/ubuntugis/ppa/ubuntu focal InRelease\n",
            "Get:15 http://archive.ubuntu.com/ubuntu focal-updates/main amd64 Packages [3,255 kB]\n",
            "Fetched 8,783 kB in 4s (2,429 kB/s)\n",
            "Reading package lists... Done\n",
            "Building dependency tree       \n",
            "Reading state information... Done\n",
            "38 packages can be upgraded. Run 'apt list --upgradable' to see them.\n",
            "Reading package lists... Done\n",
            "Building dependency tree       \n",
            "Reading state information... Done\n",
            "ffmpeg is already the newest version (7:4.2.7-0ubuntu0.1).\n",
            "0 upgraded, 0 newly installed, 0 to remove and 38 not upgraded.\n"
          ]
        }
      ]
    },
    {
      "cell_type": "code",
      "source": [
        "import os\n",
        "import requests\n",
        "import speech_recognition as sr\n",
        "import openai\n",
        "from pydub import AudioSegment\n",
        "\n",
        "# OpenAI Whisper API settings\n",
        "OPENAI_API_KEY = \"YOUR API KEY\"  # replace with your OpenAI API key\n",
        "OPENAI_API_URL = \"https://api.openai.com/v1/audio/transcriptions\"\n",
        "MODEL_ID = \"whisper-1\"\n",
        "AUDIO_FILE_PATH = \"audio.mp3\"  # replace with your audio file path\n",
        "\n",
        "# Deepgram API settings\n",
        "DEEPGRAM_API_KEY = \"YOUR API KEY\"  # replace with your Deepgram API key\n",
        "DEEPGRAM_API_URL = \"https://api.deepgram.com/v1/listen\"\n",
        "LANGUAGE = \"en\"\n",
        "MODEL = \"general\"\n",
        "TIER = \"nova\"\n",
        "\n",
        "# Configure OpenAI\n",
        "openai.api_key = OPENAI_API_KEY\n",
        "\n",
        "# Function for OpenAI Whisper API\n",
        "def transcribe_openai():\n",
        "    with open(AUDIO_FILE_PATH, \"rb\") as audio_file:\n",
        "        response = openai.Audio.transcribe(MODEL_ID, audio_file)\n",
        "    return response.text\n",
        "\n",
        "# Function for Deepgram API\n",
        "def transcribe_deepgram():\n",
        "    headers = {\n",
        "        \"Authorization\": \"Token \" + DEEPGRAM_API_KEY,\n",
        "        \"Content-Type\": \"audio/mpeg\"  # Set this to the MIME type of your audio file\n",
        "    }\n",
        "    with open(AUDIO_FILE_PATH, \"rb\") as audio_file:\n",
        "        audio_data = audio_file.read()\n",
        "    response = requests.post(DEEPGRAM_API_URL, headers=headers, data=audio_data)\n",
        "    response.raise_for_status()\n",
        "    return response.json()[\"results\"][\"channels\"][0][\"alternatives\"][0][\"transcript\"]\n",
        "\n",
        "\n",
        "# Call the three transcription functions\n",
        "openai_transcript = transcribe_openai()\n",
        "deepgram_transcript = transcribe_deepgram()\n",
        "\n",
        "# Print the results\n",
        "print(\"OpenAI Transcript: \", openai_transcript)\n",
        "print(\"Deepgram Transcript: \", deepgram_transcript)\n"
      ],
      "metadata": {
        "colab": {
          "base_uri": "https://localhost:8080/"
        },
        "id": "5-2psDhOZ_8i",
        "outputId": "d14ba0e6-dfe9-45a1-b2fc-f0b7f31a79a2"
      },
      "execution_count": 33,
      "outputs": [
        {
          "output_type": "stream",
          "name": "stdout",
          "text": [
            "OpenAI Transcript:  Tell you something if your friends start acting different when your nigga come around you need to cut that bitch off I will tell you to beat her ass right there and then but I don't want y'all motherfuckers saying that I'm promoting violence and shit Now, you know what the type of shit that I hate I hate when a nigga come around right and a bitch wanna change Her voice her tone and shit trying to talk all cute. You try to act all delegate talking about like Oh my god, are you serious bitch? Why are you talking like that bitch? Your voice is wild deep like fucking pop smoke all of a sudden you motherfucking talking like Kim Kardashian stop fucking playing Oh when she try to make you fucking look stupid like you ask a question like oh my god Remember that time that we almost drowned and she go like no, I don't remember. What are you talking about, bitch? Why you fucking trying to make me look fucking stupid bitch. I will whip your motherfucking ass I will ask her right there and then I say bitch. What are you talking about? Like that happened last week? What are you talking about? You remember why you talking like that? Why you trying to be cute around my nigga? I will do that shit in front of the nigga. They stop playing with me, bitch But I don't got friends like that so I can't relate you know say but I'll be right back\n",
            "Deepgram Transcript:  tell you something if your friends start acting different where your nigga gonna come around you need to cut that bitch off i will tell you be her ass right there and then bottom i don't want cha off fucking saying i'm promoting violence shit now you know what the temperature that i hate i hate when a nigga come around right and a bitch wanna to change her voice so on a tony shit trying to talk q you're trying to act all delegate talking about like oh my god i your service bitch why you're talking like that bitch your voice is bob leave like fuck pop smoke all of a sudden your mother motherfucking talk like kim dash stop fucking complain or when she try to make a fucking look stupid like you asked her a question like oh my god remember that time that we almost drowned and she goes like no i don't remember what are you talking about bitch why you fucking on we look fucking stupid bitch i will whip your motherfucking ass i will ask her right there and then like said bitch what are you talking about like that happened week were be talking about but you remember why are you talking like that why are you trying be clear around my nigga i will do that sit in front of the nigga stop playing with me bitch i got friends like that so i can't relate you eight but i i'll be\n"
          ]
        }
      ]
    },
    {
      "cell_type": "code",
      "source": [
        "from rapidfuzz import fuzz\n",
        "import string\n",
        "def remove_punctuation(input_string):\n",
        "    # Make a translator object to remove all punctuation\n",
        "    translator = str.maketrans('', '', string.punctuation)\n",
        "    # Use the translator object to remove punctuation from the input string\n",
        "    no_punct = input_string.translate(translator)\n",
        "    return no_punct\n",
        "\n",
        "def compare_strings(str1, str2):\n",
        "    str1 = remove_punctuation(str1)\n",
        "    str2 = remove_punctuation(str2)\n",
        "    return fuzz.ratio(str1, str2)\n",
        "\n",
        "\n",
        "similarity = compare_strings(openai_transcript.lower(), deepgram_transcript.lower())\n",
        "\n",
        "print(f\"The Levenshtein similarity between the two transcriptions is {similarity}%\")\n"
      ],
      "metadata": {
        "colab": {
          "base_uri": "https://localhost:8080/"
        },
        "id": "DwRwd-U8Z_33",
        "outputId": "2fc7f4e2-e24d-43bb-fae7-aac6a8a57fd4"
      },
      "execution_count": 34,
      "outputs": [
        {
          "output_type": "stream",
          "name": "stdout",
          "text": [
            "The Levenshtein similarity between the two transcriptions is 90.0462962962963%\n"
          ]
        }
      ]
    },
    {
      "cell_type": "code",
      "source": [
        "def summarize_transcript():\n",
        "    # Define the conversation\n",
        "    messages = [\n",
        "        {\n",
        "            \"role\": \"system\",\n",
        "            \"content\": \"You are a editor, writer, and stenographer. Summarize the provided transcription text. Be aware that some words may be incorrect or missing. Do not censor expletives or curse words.\"\n",
        "        },\n",
        "        {\n",
        "            \"role\": \"user\",\n",
        "            \"content\": openai_transcript\n",
        "        }\n",
        "    ]\n",
        "\n",
        "    # Request a completion from the API\n",
        "    response = openai.ChatCompletion.create(\n",
        "        model=\"gpt-3.5-turbo-0301\",\n",
        "        messages=messages,\n",
        "        max_tokens=100,\n",
        "        temperature = 0\n",
        "    )\n",
        "    return response.choices[0].message[\"content\"]\n",
        "\n",
        "# Generate consensus transcription\n",
        "audio_content = summarize_transcript()"
      ],
      "metadata": {
        "id": "Bv2eEl6Ql8-o"
      },
      "execution_count": 35,
      "outputs": []
    },
    {
      "cell_type": "code",
      "source": [
        "# Request user input for the content description\n",
        "# audio_content = input(\"Please describe the content of the audio file: \")\n",
        "\n",
        "# Use OpenAI GPT-3.5-turbo to analyze the transcriptions\n",
        "def analyze_transcriptions():\n",
        "    # Define the conversation\n",
        "    messages = [\n",
        "        {\n",
        "            \"role\": \"system\",\n",
        "            \"content\": \"You are a skilled editor, transcriber of speech, and stenographer. Your task is to review two transcripts of the same speech and write a new transcript. Given context that explains the speech, provide a new transcript that fixes the transcription errors in each of the two original transcripts. Make sure to consider how words that sound similar can be mistranscribed. Use your knowledge of phonetics, pronunciation, speech patterns, modern slang, and more. Generate a highly accurate consensus transcript that preserves the original words as exactly as possible while fixing the errors. Do not correct grammar based on Standard American English. Do not censor inappropriate words with asterisks. Think step by step and be careful to maintain accuracy to the transcripts when possible. Do not hallucinate. Keep the original words unless they are incorrect.\"\n",
        "        },\n",
        "        {\n",
        "            \"role\": \"user\",\n",
        "            \"content\": f\"Here is a summary of the transcriptions:'{audio_content}'. Here are the two transcriptions which may have errors: OpenAI transcript: '{openai_transcript}', Deepgram transcript: '{deepgram_transcript}'. Provide a new corrected transcription that is faithful to the words used in the transcripts. Do not replace words with synonyms.\"\n",
        "        }\n",
        "    ]\n",
        "\n",
        "    # Request a completion from the API\n",
        "    response = openai.ChatCompletion.create(\n",
        "        model=\"gpt-3.5-turbo-0301\",\n",
        "        messages=messages, temperature =0\n",
        "    )\n",
        "    return response.choices[0].message[\"content\"]\n",
        "\n",
        "# Generate consensus transcription\n",
        "consensus_transcript = analyze_transcriptions()\n",
        "\n",
        "# Print the consensus transcription\n",
        "print(\"Consensus Transcript: \", consensus_transcript)\n"
      ],
      "metadata": {
        "colab": {
          "base_uri": "https://localhost:8080/"
        },
        "id": "Yqr8gKcYidwc",
        "outputId": "b366113a-82f8-4d7d-855e-4762202023c4"
      },
      "execution_count": 38,
      "outputs": [
        {
          "output_type": "stream",
          "name": "stdout",
          "text": [
            "Consensus Transcript:  Speaker: Tell you something, if your friends start acting different when your nigga come around, you need to cut that bitch off. I will tell you, beat her ass right there and then, but I don't want y'all motherfuckers saying that I'm promoting violence and shit. Now, you know what type of shit that I hate? I hate when a nigga come around, right, and a bitch wanna change her voice, her tone and shit, trying to talk all cute. You tryna act all delicate, talking about like, \"Oh my god, are you serious, bitch?\" Why are you talking like that, bitch? Your voice is wild deep like fucking Pop Smoke all of a sudden, you motherfucking talking like Kim Kardashian. Stop fucking playing. Or when she tryna make you fucking look stupid, like you ask a question like, \"Oh my god, remember that time that we almost drowned?\" And she go like, \"No, I don't remember. What are you talking about, bitch?\" Why you fucking trying to make me look fucking stupid, bitch? I will whip your motherfucking ass. I will ask her right there and then, I say, \"Bitch, what are you talking about? Like that happened last week? What are you talking about? You remember. Why you talking like that? Why you trying to be cute around my nigga?\" I will do that shit in front of the nigga. They stop playing with me, bitch. But I don't got friends like that, so I can't relate, you know what I'm saying? But I'll be right back.\n"
          ]
        }
      ]
    }
  ]
}